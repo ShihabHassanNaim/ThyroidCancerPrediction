{
 "cells": [
  {
   "cell_type": "code",
   "execution_count": 2,
   "id": "c6abab1c",
   "metadata": {},
   "outputs": [],
   "source": [
    "import numpy as np\n",
    "import pandas as pd\n",
    "import matplotlib.pyplot as plt\n",
    "import seaborn as sns\n",
    "import os\n"
   ]
  },
  {
   "cell_type": "code",
   "execution_count": 3,
   "id": "4ee37c93",
   "metadata": {},
   "outputs": [],
   "source": [
    "columns = [\n",
    "    \"target\", \"age\", \"sex\", \"on_thyroxine\", \"query_on_thyroxine\",\n",
    "    \"on_antithyroid_medication\", \"thyroid_surgery\", \"query_hypothyroid\",\n",
    "    \"query_hyperthyroid\", \"pregnant\", \"sick\", \"tumor\", \"lithium\", \"goitre\",\n",
    "    \"TSH_measured\", \"TSH\", \"T3_measured\", \"T3\", \"TT4_measured\", \"TT4\",\n",
    "    \"T4U_measured\", \"T4U\", \"FTI_measured\", \"FTI\", \"TBG_measured\", \"TBG\"\n",
    "]\n"
   ]
  },
  {
   "cell_type": "code",
   "execution_count": 4,
   "id": "9485729a",
   "metadata": {},
   "outputs": [],
   "source": [
    "import pandas as pd\n",
    "\n",
    "df = pd.read_csv(\"../Dataset/thyroid+disease/hypothyroid.data\", header=None, names=columns, na_values='?')\n"
   ]
  },
  {
   "cell_type": "code",
   "execution_count": 5,
   "id": "d0069b53",
   "metadata": {},
   "outputs": [
    {
     "data": {
      "text/plain": [
       "target                       3163\n",
       "age                          2717\n",
       "sex                          3090\n",
       "on_thyroxine                 3163\n",
       "query_on_thyroxine           3163\n",
       "on_antithyroid_medication    3163\n",
       "thyroid_surgery              3163\n",
       "query_hypothyroid            3163\n",
       "query_hyperthyroid           3163\n",
       "pregnant                     3163\n",
       "sick                         3163\n",
       "tumor                        3163\n",
       "lithium                      3163\n",
       "goitre                       3163\n",
       "TSH_measured                 3163\n",
       "TSH                          2695\n",
       "T3_measured                  3163\n",
       "T3                           2468\n",
       "TT4_measured                 3163\n",
       "TT4                          2914\n",
       "T4U_measured                 3163\n",
       "T4U                          2915\n",
       "FTI_measured                 3163\n",
       "FTI                          2916\n",
       "TBG_measured                 3163\n",
       "TBG                           260\n",
       "dtype: int64"
      ]
     },
     "execution_count": 5,
     "metadata": {},
     "output_type": "execute_result"
    }
   ],
   "source": [
    "df.count()"
   ]
  },
  {
   "cell_type": "code",
   "execution_count": 6,
   "id": "7358d548",
   "metadata": {},
   "outputs": [
    {
     "data": {
      "text/plain": [
       "target\n",
       "negative       3012\n",
       "hypothyroid     151\n",
       "Name: count, dtype: int64"
      ]
     },
     "execution_count": 6,
     "metadata": {},
     "output_type": "execute_result"
    }
   ],
   "source": [
    "df.target.value_counts()"
   ]
  },
  {
   "cell_type": "code",
   "execution_count": 7,
   "id": "164bbd2e",
   "metadata": {},
   "outputs": [
    {
     "data": {
      "text/plain": [
       "target                          0\n",
       "age                           446\n",
       "sex                            73\n",
       "on_thyroxine                    0\n",
       "query_on_thyroxine              0\n",
       "on_antithyroid_medication       0\n",
       "thyroid_surgery                 0\n",
       "query_hypothyroid               0\n",
       "query_hyperthyroid              0\n",
       "pregnant                        0\n",
       "sick                            0\n",
       "tumor                           0\n",
       "lithium                         0\n",
       "goitre                          0\n",
       "TSH_measured                    0\n",
       "TSH                           468\n",
       "T3_measured                     0\n",
       "T3                            695\n",
       "TT4_measured                    0\n",
       "TT4                           249\n",
       "T4U_measured                    0\n",
       "T4U                           248\n",
       "FTI_measured                    0\n",
       "FTI                           247\n",
       "TBG_measured                    0\n",
       "TBG                          2903\n",
       "dtype: int64"
      ]
     },
     "execution_count": 7,
     "metadata": {},
     "output_type": "execute_result"
    }
   ],
   "source": [
    "df.isnull().sum()"
   ]
  },
  {
   "cell_type": "code",
   "execution_count": 8,
   "id": "5ad9f654",
   "metadata": {},
   "outputs": [
    {
     "data": {
      "text/plain": [
       "TSH\n",
       "0.00     894\n",
       "0.90      76\n",
       "0.70      75\n",
       "0.80      69\n",
       "0.60      65\n",
       "        ... \n",
       "0.35       1\n",
       "50.00      1\n",
       "32.00      1\n",
       "0.83       1\n",
       "0.08       1\n",
       "Name: count, Length: 239, dtype: int64"
      ]
     },
     "execution_count": 8,
     "metadata": {},
     "output_type": "execute_result"
    }
   ],
   "source": [
    "df.TSH.value_counts()"
   ]
  },
  {
   "cell_type": "code",
   "execution_count": 9,
   "id": "98c462be",
   "metadata": {},
   "outputs": [
    {
     "name": "stdout",
     "output_type": "stream",
     "text": [
      "<class 'pandas.core.frame.DataFrame'>\n",
      "RangeIndex: 3163 entries, 0 to 3162\n",
      "Data columns (total 26 columns):\n",
      " #   Column                     Non-Null Count  Dtype  \n",
      "---  ------                     --------------  -----  \n",
      " 0   target                     3163 non-null   object \n",
      " 1   age                        2717 non-null   float64\n",
      " 2   sex                        3090 non-null   object \n",
      " 3   on_thyroxine               3163 non-null   object \n",
      " 4   query_on_thyroxine         3163 non-null   object \n",
      " 5   on_antithyroid_medication  3163 non-null   object \n",
      " 6   thyroid_surgery            3163 non-null   object \n",
      " 7   query_hypothyroid          3163 non-null   object \n",
      " 8   query_hyperthyroid         3163 non-null   object \n",
      " 9   pregnant                   3163 non-null   object \n",
      " 10  sick                       3163 non-null   object \n",
      " 11  tumor                      3163 non-null   object \n",
      " 12  lithium                    3163 non-null   object \n",
      " 13  goitre                     3163 non-null   object \n",
      " 14  TSH_measured               3163 non-null   object \n",
      " 15  TSH                        2695 non-null   float64\n",
      " 16  T3_measured                3163 non-null   object \n",
      " 17  T3                         2468 non-null   float64\n",
      " 18  TT4_measured               3163 non-null   object \n",
      " 19  TT4                        2914 non-null   float64\n",
      " 20  T4U_measured               3163 non-null   object \n",
      " 21  T4U                        2915 non-null   float64\n",
      " 22  FTI_measured               3163 non-null   object \n",
      " 23  FTI                        2916 non-null   float64\n",
      " 24  TBG_measured               3163 non-null   object \n",
      " 25  TBG                        260 non-null    float64\n",
      "dtypes: float64(7), object(19)\n",
      "memory usage: 642.6+ KB\n"
     ]
    }
   ],
   "source": [
    "df.info()"
   ]
  },
  {
   "cell_type": "code",
   "execution_count": 10,
   "id": "a14bccb3",
   "metadata": {},
   "outputs": [
    {
     "data": {
      "text/plain": [
       "T3_measured\n",
       "y    2468\n",
       "n     695\n",
       "Name: count, dtype: int64"
      ]
     },
     "execution_count": 10,
     "metadata": {},
     "output_type": "execute_result"
    }
   ],
   "source": [
    "df.T3_measured.value_counts()\n"
   ]
  },
  {
   "cell_type": "code",
   "execution_count": 11,
   "id": "b4c177c7",
   "metadata": {},
   "outputs": [
    {
     "data": {
      "text/plain": [
       "np.float64(1.9397487844408428)"
      ]
     },
     "execution_count": 11,
     "metadata": {},
     "output_type": "execute_result"
    }
   ],
   "source": [
    "df.T3.mean()"
   ]
  },
  {
   "cell_type": "code",
   "execution_count": null,
   "id": "892a4312",
   "metadata": {},
   "outputs": [],
   "source": []
  },
  {
   "cell_type": "code",
   "execution_count": null,
   "id": "e77eec23",
   "metadata": {},
   "outputs": [],
   "source": []
  },
  {
   "cell_type": "code",
   "execution_count": null,
   "id": "becc2b4e",
   "metadata": {},
   "outputs": [],
   "source": []
  },
  {
   "cell_type": "code",
   "execution_count": null,
   "id": "76a12090",
   "metadata": {},
   "outputs": [],
   "source": []
  },
  {
   "cell_type": "code",
   "execution_count": null,
   "id": "81401bc7",
   "metadata": {},
   "outputs": [],
   "source": []
  },
  {
   "cell_type": "code",
   "execution_count": null,
   "id": "80fedf2f",
   "metadata": {},
   "outputs": [],
   "source": []
  },
  {
   "cell_type": "code",
   "execution_count": null,
   "id": "2106dd94",
   "metadata": {},
   "outputs": [],
   "source": []
  },
  {
   "cell_type": "code",
   "execution_count": 12,
   "id": "49bab52a",
   "metadata": {},
   "outputs": [
    {
     "data": {
      "image/png": "[encoded data removed]",
      "text/plain": [
       "<Figure size 1000x600 with 1 Axes>"
      ]
     },
     "metadata": {},
     "output_type": "display_data"
    }
   ],
   "source": [
    "\n",
    "# Create a bar plot to visualize the distribution\n",
    "plt.figure(figsize=(10, 6))\n",
    "sns.countplot(x='target', data=df)\n",
    "plt.title('Distribution of Hypothyroid vs Negative Cases')\n",
    "plt.xlabel('Target Class')\n",
    "plt.ylabel('Count')\n",
    "plt.tight_layout()\n",
    "plt.show()"
   ]
  },
  {
   "cell_type": "code",
   "execution_count": null,
   "id": "edacb207",
   "metadata": {},
   "outputs": [],
   "source": []
  }
 ],
 "metadata": {
  "kernelspec": {
   "display_name": "venv",
   "language": "python",
   "name": "python3"
  },
  "language_info": {
   "codemirror_mode": {
    "name": "ipython",
    "version": 3
   },
   "file_extension": ".py",
   "mimetype": "text/x-python",
   "name": "python",
   "nbconvert_exporter": "python",
   "pygments_lexer": "ipython3",
   "version": "3.12.10"
  }
 },
 "nbformat": 4,
 "nbformat_minor": 5
}
